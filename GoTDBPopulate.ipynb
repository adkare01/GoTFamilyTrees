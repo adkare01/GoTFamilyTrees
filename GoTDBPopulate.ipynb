{
 "cells": [
  {
   "cell_type": "code",
   "execution_count": null,
   "metadata": {},
   "outputs": [],
   "source": [
    "#This script is designed to merge raw GoT datafiles into an SQL database containing all relevant \n",
    "#information (character name, parentage, etc.) required for production of family tree depictions.\n",
    "\n",
    "import sqlite3\n",
    "import json"
   ]
  },
  {
   "cell_type": "code",
   "execution_count": null,
   "metadata": {},
   "outputs": [],
   "source": [
    "#First we'll initialize the database connection and create the needed tables.\n",
    "conn = sqlite3.connect('got_treedata.db')\n",
    "c=conn.cursor()\n",
    "c.execute('''CREATE TABLE PEOPLE\n",
    "             (ID int primary key, Name text, Gender int, YOB int, YOD int, House text)''')\n",
    "\n",
    "c.execute('''CREATE TABLE PARENTAGE\n",
    "             (Parent text, Child text, PRIMARY KEY(Parent,Child))''')\n",
    "\n"
   ]
  },
  {
   "cell_type": "code",
   "execution_count": null,
   "metadata": {},
   "outputs": [],
   "source": [
    "#Now we'll populate the PEOPLE table with relevant demographic information.\n",
    "import csv\n",
    "addrows=[]\n",
    "with open('dataraw/character-predictions.csv') as csv_file:\n",
    "    csv_reader = csv.reader(csv_file, delimiter=',')\n",
    "    line_count = 0\n",
    "    for row in csv_reader:\n",
    "        if line_count > 0:\n",
    "            #addrows.append((row[0],row[5],row[9],row[10],row[11],row[12],row[14]))\n",
    "            addrows.append((row[0],row[5],row[7],row[9],row[10],row[14]))\n",
    "            #set_trace()      \n",
    "            #print('Attributes')\n",
    "        line_count += 1\n",
    "    print(f'Processed {line_count} lines.')\n",
    "    \n",
    "c.executemany('INSERT INTO PEOPLE VALUES (?,?,?,?,?,?)', addrows)    "
   ]
  },
  {
   "cell_type": "code",
   "execution_count": null,
   "metadata": {
    "scrolled": true
   },
   "outputs": [],
   "source": [
    "#We do the same in turn for the characters database -- this time to connect parents to children.\n",
    "with open('dataraw/characters.json') as json_file:\n",
    "    data_relationships = json.load(json_file)['characters']    \n",
    "for char_record in data_relationships:\n",
    "    if 'parents' in char_record: \n",
    "        for par_name in char_record['parents']:        \n",
    "            c.execute('INSERT INTO PARENTAGE VALUES (?,?)',(par_name,char_record['characterName']))"
   ]
  },
  {
   "cell_type": "code",
   "execution_count": null,
   "metadata": {},
   "outputs": [],
   "source": [
    "#Commit our changes and close up shop.\n",
    "conn.commit()\n",
    "conn.close()"
   ]
  }
 ],
 "metadata": {
  "kernelspec": {
   "display_name": "Python 3",
   "language": "python",
   "name": "python3"
  },
  "language_info": {
   "codemirror_mode": {
    "name": "ipython",
    "version": 3
   },
   "file_extension": ".py",
   "mimetype": "text/x-python",
   "name": "python",
   "nbconvert_exporter": "python",
   "pygments_lexer": "ipython3",
   "version": "3.7.3"
  }
 },
 "nbformat": 4,
 "nbformat_minor": 2
}
