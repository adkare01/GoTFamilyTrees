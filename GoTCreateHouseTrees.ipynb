{
 "cells": [
  {
   "cell_type": "code",
   "execution_count": null,
   "metadata": {},
   "outputs": [],
   "source": [
    "from IPython.utils import io\n",
    "import sqlite3\n",
    "import os\n",
    "from itertools import combinations \n",
    "\n",
    "from IPython.core.debugger import set_trace"
   ]
  },
  {
   "cell_type": "code",
   "execution_count": null,
   "metadata": {},
   "outputs": [],
   "source": [
    "conn = sqlite3.connect('got_treedata.db') #SQL database \n",
    "c=conn.cursor()\n",
    "\n"
   ]
  },
  {
   "cell_type": "code",
   "execution_count": null,
   "metadata": {},
   "outputs": [],
   "source": [
    "def getdemostr(name,dbcursor,genderflag,unkcounter):\n",
    "    #Returns a formatted string appropriate for family tree output.  Includes gender and birthdate/deathdate if available\n",
    "    #name and dbcursor are straight-forward\n",
    "    #genderflag represents the previously read gender.  Used only for gender of \"Unknown\" individuals (ugly -- need to fix)\n",
    "    #unkcounter represents a counter on unknown parents -- needed to distinguish between multiple \"Unknowns\" in a family tree\n",
    "    querystrdemo=\"SELECT Gender, YOB, YOD FROM PEOPLE WHERE Name=?\" \n",
    "    GenStr=['F','M']\n",
    "    \n",
    "    c.execute(querystrdemo,(name,))\n",
    "    curdemo=dbcursor.fetchall()\n",
    "    compstr = name + ' ('\n",
    "    if not curdemo:        \n",
    "        unkcounter+=1\n",
    "        #Unknowns require identification to avoid erroneous tree node generation.\n",
    "        compstr += 'id=' + str(unkcounter) + ', '\n",
    "        curdemo=[[(genderflag+1)%2,'','']]\n",
    "    genderflag, bday, dday = curdemo[0]\n",
    "    compstr+=GenStr[genderflag]\n",
    "    if bday:\n",
    "        compstr += ', birthday=' + str(bday)\n",
    "    if dday:\n",
    "        compstr += ', deathday=' + str(dday)\n",
    "    compstr+=')'\n",
    "    return compstr, genderflag, unkcounter"
   ]
  },
  {
   "cell_type": "code",
   "execution_count": null,
   "metadata": {},
   "outputs": [],
   "source": [
    "def createHouseTree(housename,dbcursor):\n",
    "    #construct and write the textual form of a family tree for the house designated by \"housename\"\n",
    "    \n",
    "    #Parentage tuples defining parent-and-child are considered valid if either one is in the given house.\n",
    "    querystrbase=\"\"\"SELECT * FROM PARENTAGE WHERE Parent IN (SELECT Name FROM PEOPLE WHERE House=?)\n",
    "                UNION\n",
    "                SELECT * FROM PARENTAGE WHERE Child IN (SELECT Name FROM PEOPLE WHERE House=?)\"\"\"    \n",
    "    #We also include the other parent of a housemember's child in the tree (see README for explanation)\n",
    "    querystraltpar=\"SELECT * FROM PARENTAGE WHERE Child=?\"\n",
    "    dbcursor.execute(querystrbase, (housename,housename))\n",
    "    parentagebase = dbcursor.fetchall()\n",
    "    if parentagebase:        \n",
    "        unchildren=set([pc[1] for pc in parentagebase])\n",
    "        for child in unchildren:       \n",
    "            dbcursor.execute(querystraltpar,(child,))        \n",
    "            addparentage=c.fetchall()\n",
    "            for ap in addparentage:\n",
    "                if ap not in parentagebase:\n",
    "                    parentagebase.append(ap)\n",
    "        \n",
    "        partuples = parentagebase.copy()\n",
    "        allchildren = [pc[1] for pc in partuples]\n",
    "        unchildren = set(allchildren)\n",
    "        child2p=dict()\n",
    "        for child in unchildren:\n",
    "            curparents = [pc[0] for pc in partuples if pc[1] == child]\n",
    "            if len(curparents)<2:\n",
    "                child2p[child]=set([curparents[0],'Unknown'])\n",
    "            else:\n",
    "                child2p[child]=set(curparents)\n",
    "        allchildren=list(child2p.keys())\n",
    "        allparents=set()\n",
    "        for child in child2p:\n",
    "            allparents=allparents.union(child2p[child])\n",
    "        rdypeople= set(ap for ap in allparents if ap not in allchildren)\n",
    "        genderflag=0\n",
    "        unkcounter=0\n",
    "        with open('HouseTrees/'+housename.replace(\" \", \"\")+'.txt', 'w') as fwr: \n",
    "            while child2p:\n",
    "                allchildren=list(child2p.keys())\n",
    "                for child in child2p:\n",
    "                    if child2p[child].issubset(rdypeople):\n",
    "                        break        \n",
    "                curchildren= [ac for ac in allchildren if child2p[ac]==child2p[child]]\n",
    "                curparents = [ap for ap in child2p[child]]\n",
    "                if curparents[0]=='Unknown':\n",
    "                    curparents[0],curparents[1] = curparents[1], curparents[0]                \n",
    "                fwr.write('\\n')\n",
    "                newsubtreestr=''\n",
    "                for cpi in curparents:\n",
    "                    [modtreestr,genderflag,unkcounter]=getdemostr(cpi,c,genderflag,unkcounter)\n",
    "                    newsubtreestr+=modtreestr+'\\n'\n",
    "                for cci in curchildren:\n",
    "                    [modtreestr,genderflag,unkcounter]=getdemostr(cci,c,genderflag,unkcounter)\n",
    "                    newsubtreestr+='\\t'+modtreestr+'\\n'\n",
    "                    #fwr.write('\\t' + cci + '\\n')\n",
    "                    del child2p[cci]\n",
    "                    rdypeople.add(cci)\n",
    "                #set_trace()\n",
    "                fwr.write(newsubtreestr)\n",
    "                                   "
   ]
  },
  {
   "cell_type": "code",
   "execution_count": null,
   "metadata": {},
   "outputs": [],
   "source": [
    "if not os.path.isdir('HouseTrees'):\n",
    "    os.mkdir('HouseTrees')\n",
    "hnquery=\"SELECT DISTINCT House FROM PEOPLE\"\n",
    "c.execute(hnquery)\n",
    "rows = c.fetchall()\n",
    "for row in rows:\n",
    "    if 'House' in row[0]:\n",
    "        createHouseTree(row[0],c)\n",
    "        \n",
    "conn.close()"
   ]
  },
  {
   "cell_type": "code",
   "execution_count": null,
   "metadata": {},
   "outputs": [],
   "source": [
    "\n",
    "for file in os.listdir(\"HouseTrees\"):\n",
    "    if file.endswith(\".txt\"):\n",
    "        curtreefile=os.path.join(\"HouseTrees/\", file)        \n",
    "        curpsfile = curtreefile[:-3]+'ps'\n",
    "        with io.capture_output() as captured:\n",
    "            %run familytreemaker $curtreefile\n",
    "        %store captured.stdout > curtree.dot\n",
    "        !dot -Tps2 curtree.dot -o $curpsfile | ps2pdf $curpsfile\n",
    "        os.remove(curtreefile)\n",
    "        os.remove(curpsfile)\n",
    "        os.remove('curtree.dot')"
   ]
  }
 ],
 "metadata": {
  "kernelspec": {
   "display_name": "Python 3",
   "language": "python",
   "name": "python3"
  },
  "language_info": {
   "codemirror_mode": {
    "name": "ipython",
    "version": 3
   },
   "file_extension": ".py",
   "mimetype": "text/x-python",
   "name": "python",
   "nbconvert_exporter": "python",
   "pygments_lexer": "ipython3",
   "version": "3.7.3"
  }
 },
 "nbformat": 4,
 "nbformat_minor": 2
}
